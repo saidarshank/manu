{
 "cells": [
  {
   "cell_type": "code",
   "execution_count": 2,
   "metadata": {},
   "outputs": [
    {
     "name": "stdout",
     "output_type": "stream",
     "text": [
      " * Serving Flask app \"__main__\" (lazy loading)\n",
      " * Environment: production\n",
      "   WARNING: This is a development server. Do not use it in a production deployment.\n",
      "   Use a production WSGI server instead.\n",
      " * Debug mode: off\n"
     ]
    },
    {
     "name": "stderr",
     "output_type": "stream",
     "text": [
      " * Running on http://127.0.0.1:5000/ (Press CTRL+C to quit)\n",
      "127.0.0.1 - - [04/Apr/2021 10:36:36] \"GET / HTTP/1.1\" 200 -\n"
     ]
    }
   ],
   "source": [
    "from flask import Flask, render_template, request, send_file\n",
    "from os import listdir\n",
    "from os.path import isfile, join\n",
    "import numpy\n",
    "import cv2\n",
    "import os\n",
    "import easyocr\n",
    "from IPython.display import Image\n",
    "\n",
    "app = Flask(__name__)\n",
    "\n",
    "@app.route(\"/\")\n",
    "def index():\n",
    "    for filename in os.listdir('images/'):\n",
    "        os.remove('images/' + filename)\n",
    "    #os.remove('output.txt')\n",
    "    return render_template(\"upload.html\")\n",
    "\n",
    "@app.route(\"/upload\", methods=[\"POST\"])\n",
    "def upload():\n",
    "    target = 'images/'\n",
    "    for file in request.files.getlist(\"file\"):\n",
    "        filename = file.filename\n",
    "        dest = \"/\".join([target, filename])\n",
    "        file.save(dest)\n",
    "    return render_template(\"upload.html\")\n",
    "\n",
    "def vconcat_resize(img_list, interpolation\n",
    "                   = cv2.INTER_CUBIC):\n",
    "    # take minimum width\n",
    "    w_min = min(img.shape[1]\n",
    "                for img in img_list)\n",
    "     \n",
    "    # resizing images\n",
    "    im_list_resize = [cv2.resize(img,\n",
    "                      (w_min, int(img.shape[0] * w_min / img.shape[1])),\n",
    "                                 interpolation = interpolation)\n",
    "                      for img in img_list]\n",
    "    # return final image\n",
    "    print(\"concat\")\n",
    "    return cv2.vconcat(im_list_resize)\n",
    "\n",
    "@app.route(\"/process\", methods=[\"GET\"])\n",
    "def process():\n",
    "    mypath='images/'\n",
    "    onlyfiles = [ f for f in listdir(mypath) if isfile(join(mypath,f)) ]\n",
    "    images = numpy.empty(len(onlyfiles), dtype=object)\n",
    "    for n in range(0, len(onlyfiles)):\n",
    "        print(1)\n",
    "        images[n] = cv2.imread( join(mypath,onlyfiles[n]) )\n",
    "    \n",
    "    img_v_resize = vconcat_resize([images[n] for n in range(0, len(onlyfiles))] )\n",
    "    cv2.imwrite('images/vconcat_resize.jpg', img_v_resize)   \n",
    "    \n",
    "    l = ['hi','bn','te','ta','ar','mr']\n",
    "    for i in l:\n",
    "        reader = easyocr.Reader([i,'en'])\n",
    "    # image file to be extracted\n",
    "    file_name = \"images/vconcat_resize.jpg\"\n",
    "    Image(file_name)\n",
    "    # extracted text\n",
    "    ot = reader.readtext(file_name, detail=0)\n",
    "    otext = ' '.join([str(elem) for elem in ot])\n",
    "    encoded_unicode = otext.encode(\"utf8\")\n",
    "    a_file = open(\"output.txt\", \"wb\")\n",
    "    a_file.write(encoded_unicode)\n",
    "    a_file = open(\"output.txt\", \"r\")\n",
    "    return render_template(\"upload.html\")\n",
    "\n",
    "@app.route(\"/download\", methods=[\"GET\"])\n",
    "def download():\n",
    "    p = \"output.txt\"\n",
    "    return send_file(p,as_attachment=True)\n",
    "\n",
    "@app.route(\"/arc_hi\", methods=[\"GET\"])\n",
    "def arc_hi():\n",
    "    p = \"hindi.txt\"\n",
    "    return send_file(p,as_attachment=True)\n",
    "\n",
    "@app.route(\"/arc_te\", methods=[\"GET\"])\n",
    "def arc_te():\n",
    "    p = \"telugu.txt\"\n",
    "    return send_file(p,as_attachment=True)\n",
    "\n",
    "@app.route(\"/arc_ta\", methods=[\"GET\"])\n",
    "def arc_ta():\n",
    "    p = \"tamil.txt\"\n",
    "    return send_file(p,as_attachment=True)\n",
    "\n",
    "@app.route(\"/arc_be\", methods=[\"GET\"])\n",
    "def arc_be():\n",
    "    p = \"bengali.txt\"\n",
    "    return send_file(p,as_attachment=True)\n",
    "\n",
    "@app.route(\"/arc_mr\", methods=[\"GET\"])\n",
    "def arc_mr():\n",
    "    p = \"marathi.txt\"\n",
    "    return send_file(p,as_attachment=True)\n",
    "\n",
    "@app.route(\"/arc_ar\", methods=[\"GET\"])\n",
    "def arc_ar():\n",
    "    p = \"arabic.txt\"\n",
    "    return send_file(p,as_attachment=True)\n",
    "\n",
    "if __name__ == \"__main__\":\n",
    "    app.run(debug=False)"
   ]
  },
  {
   "cell_type": "code",
   "execution_count": 4,
   "metadata": {},
   "outputs": [
    {
     "name": "stdout",
     "output_type": "stream",
     "text": [
      "Collecting easyocr\n",
      "  Downloading https://files.pythonhosted.org/packages/48/b0/00d399572e9942795fb456759ac35e4b4dcbfae429adab1670a44d1ab8ab/easyocr-1.3.0.1-py3-none-any.whl (63.0MB)\n",
      "Requirement already satisfied: Pillow in c:\\users\\saida\\appdata\\local\\continuum\\anaconda3\\lib\\site-packages (from easyocr) (6.1.0)\n",
      "Collecting python-bidi (from easyocr)\n",
      "  Downloading https://files.pythonhosted.org/packages/33/b0/f942d146a2f457233baaafd6bdf624eba8e0f665045b4abd69d1b62d097d/python_bidi-0.4.2-py2.py3-none-any.whl\n",
      "Requirement already satisfied: PyYAML in c:\\users\\saida\\appdata\\local\\continuum\\anaconda3\\lib\\site-packages (from easyocr) (5.1.1)\n",
      "Requirement already satisfied: scipy in c:\\users\\saida\\appdata\\local\\continuum\\anaconda3\\lib\\site-packages (from easyocr) (1.2.1)\n",
      "Collecting opencv-python (from easyocr)\n",
      "  Downloading https://files.pythonhosted.org/packages/70/a8/e52a82936be6d5696fb06c78450707c26dc13df91bb6bf49583bb9abbaa0/opencv_python-4.5.1.48-cp37-cp37m-win_amd64.whl (34.9MB)\n",
      "Requirement already satisfied: scikit-image in c:\\users\\saida\\appdata\\local\\continuum\\anaconda3\\lib\\site-packages (from easyocr) (0.15.0)\n",
      "Collecting torchvision>=0.5 (from easyocr)\n",
      "  Downloading https://files.pythonhosted.org/packages/4a/f6/6a7d86254981c28a1a9230b087db34a5429b66578bbc9d3a70d40ebbeef4/torchvision-0.9.1-cp37-cp37m-win_amd64.whl (852kB)\n",
      "Requirement already satisfied: numpy in c:\\users\\saida\\appdata\\local\\continuum\\anaconda3\\lib\\site-packages (from easyocr) (1.16.4)\n",
      "Collecting torch (from easyocr)\n",
      "  Downloading https://files.pythonhosted.org/packages/ff/4d/8393a4f9d7113c2f0db341aea7d312ae7fb41288ce867b72c8940ebddf01/torch-1.8.1-cp37-cp37m-win_amd64.whl (190.5MB)\n",
      "Requirement already satisfied: six in c:\\users\\saida\\appdata\\local\\continuum\\anaconda3\\lib\\site-packages (from python-bidi->easyocr) (1.12.0)\n",
      "Requirement already satisfied: PyWavelets>=0.4.0 in c:\\users\\saida\\appdata\\local\\continuum\\anaconda3\\lib\\site-packages (from scikit-image->easyocr) (1.0.3)\n",
      "Requirement already satisfied: imageio>=2.0.1 in c:\\users\\saida\\appdata\\local\\continuum\\anaconda3\\lib\\site-packages (from scikit-image->easyocr) (2.5.0)\n",
      "Requirement already satisfied: matplotlib!=3.0.0,>=2.0.0 in c:\\users\\saida\\appdata\\local\\continuum\\anaconda3\\lib\\site-packages (from scikit-image->easyocr) (3.1.0)\n",
      "Requirement already satisfied: networkx>=2.0 in c:\\users\\saida\\appdata\\local\\continuum\\anaconda3\\lib\\site-packages (from scikit-image->easyocr) (2.3)\n",
      "Collecting typing-extensions (from torch->easyocr)\n",
      "  Downloading https://files.pythonhosted.org/packages/60/7a/e881b5abb54db0e6e671ab088d079c57ce54e8a01a3ca443f561ccadb37e/typing_extensions-3.7.4.3-py3-none-any.whl\n",
      "Requirement already satisfied: cycler>=0.10 in c:\\users\\saida\\appdata\\local\\continuum\\anaconda3\\lib\\site-packages (from matplotlib!=3.0.0,>=2.0.0->scikit-image->easyocr) (0.10.0)\n",
      "Requirement already satisfied: kiwisolver>=1.0.1 in c:\\users\\saida\\appdata\\local\\continuum\\anaconda3\\lib\\site-packages (from matplotlib!=3.0.0,>=2.0.0->scikit-image->easyocr) (1.1.0)\n",
      "Requirement already satisfied: pyparsing!=2.0.4,!=2.1.2,!=2.1.6,>=2.0.1 in c:\\users\\saida\\appdata\\local\\continuum\\anaconda3\\lib\\site-packages (from matplotlib!=3.0.0,>=2.0.0->scikit-image->easyocr) (2.4.0)\n",
      "Requirement already satisfied: python-dateutil>=2.1 in c:\\users\\saida\\appdata\\local\\continuum\\anaconda3\\lib\\site-packages (from matplotlib!=3.0.0,>=2.0.0->scikit-image->easyocr) (2.8.0)\n",
      "Requirement already satisfied: decorator>=4.3.0 in c:\\users\\saida\\appdata\\local\\continuum\\anaconda3\\lib\\site-packages (from networkx>=2.0->scikit-image->easyocr) (4.4.0)\n",
      "Requirement already satisfied: setuptools in c:\\users\\saida\\appdata\\local\\continuum\\anaconda3\\lib\\site-packages (from kiwisolver>=1.0.1->matplotlib!=3.0.0,>=2.0.0->scikit-image->easyocr) (41.0.1)\n",
      "Installing collected packages: python-bidi, opencv-python, typing-extensions, torch, torchvision, easyocr\n",
      "Successfully installed easyocr-1.3.0.1 opencv-python-4.5.1.48 python-bidi-0.4.2 torch-1.8.1 torchvision-0.9.1 typing-extensions-3.7.4.3\n",
      "Note: you may need to restart the kernel to use updated packages.\n"
     ]
    }
   ],
   "source": [
    "pip install easyocr"
   ]
  },
  {
   "cell_type": "code",
   "execution_count": 11,
   "metadata": {},
   "outputs": [
    {
     "name": "stdout",
     "output_type": "stream",
     "text": [
      "Collecting opencv\n"
     ]
    },
    {
     "name": "stderr",
     "output_type": "stream",
     "text": [
      "  ERROR: Could not find a version that satisfies the requirement opencv (from versions: none)\n",
      "ERROR: No matching distribution found for opencv\n"
     ]
    },
    {
     "name": "stdout",
     "output_type": "stream",
     "text": [
      "Note: you may need to restart the kernel to use updated packages.\n"
     ]
    }
   ],
   "source": [
    "pip install "
   ]
  },
  {
   "cell_type": "code",
   "execution_count": null,
   "metadata": {},
   "outputs": [],
   "source": []
  }
 ],
 "metadata": {
  "kernelspec": {
   "display_name": "Python 3",
   "language": "python",
   "name": "python3"
  },
  "language_info": {
   "codemirror_mode": {
    "name": "ipython",
    "version": 3
   },
   "file_extension": ".py",
   "mimetype": "text/x-python",
   "name": "python",
   "nbconvert_exporter": "python",
   "pygments_lexer": "ipython3",
   "version": "3.7.3"
  }
 },
 "nbformat": 4,
 "nbformat_minor": 2
}
